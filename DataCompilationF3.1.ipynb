{
 "cells": [
  {
   "cell_type": "code",
   "execution_count": 25,
   "id": "5c14057b-31a2-47be-a31b-108053576d0d",
   "metadata": {},
   "outputs": [],
   "source": [
    "import pandas as pd #1. Import pandas package as pd"
   ]
  },
  {
   "cell_type": "code",
   "execution_count": 26,
   "id": "cd73edd5-9463-4ff6-bbbe-777df58a5ffc",
   "metadata": {},
   "outputs": [],
   "source": [
    "df=pd.read_csv(\"CountyHealthData_2014-2015.csv\") #2. Create dataframe object and define as df"
   ]
  },
  {
   "cell_type": "code",
   "execution_count": 27,
   "id": "8752ec2c-abf9-433f-afff-e8184ca0d59e",
   "metadata": {},
   "outputs": [
    {
     "data": {
      "text/html": [
       "<div>\n",
       "<style scoped>\n",
       "    .dataframe tbody tr th:only-of-type {\n",
       "        vertical-align: middle;\n",
       "    }\n",
       "\n",
       "    .dataframe tbody tr th {\n",
       "        vertical-align: top;\n",
       "    }\n",
       "\n",
       "    .dataframe thead th {\n",
       "        text-align: right;\n",
       "    }\n",
       "</style>\n",
       "<table border=\"1\" class=\"dataframe\">\n",
       "  <thead>\n",
       "    <tr style=\"text-align: right;\">\n",
       "      <th></th>\n",
       "      <th>State</th>\n",
       "      <th>County</th>\n",
       "      <th>Adult obesity</th>\n",
       "    </tr>\n",
       "  </thead>\n",
       "  <tbody>\n",
       "    <tr>\n",
       "      <th>1</th>\n",
       "      <td>AK</td>\n",
       "      <td>Aleutians West Census Area</td>\n",
       "      <td>0.329</td>\n",
       "    </tr>\n",
       "    <tr>\n",
       "      <th>5407</th>\n",
       "      <td>UT</td>\n",
       "      <td>Millard County</td>\n",
       "      <td>0.297</td>\n",
       "    </tr>\n",
       "    <tr>\n",
       "      <th>1572</th>\n",
       "      <td>IN</td>\n",
       "      <td>Boone County</td>\n",
       "      <td>0.278</td>\n",
       "    </tr>\n",
       "    <tr>\n",
       "      <th>648</th>\n",
       "      <td>FL</td>\n",
       "      <td>Flagler County</td>\n",
       "      <td>0.284</td>\n",
       "    </tr>\n",
       "    <tr>\n",
       "      <th>5546</th>\n",
       "      <td>VA</td>\n",
       "      <td>Greensville County</td>\n",
       "      <td>0.331</td>\n",
       "    </tr>\n",
       "    <tr>\n",
       "      <th>1895</th>\n",
       "      <td>KS</td>\n",
       "      <td>Republic County</td>\n",
       "      <td>0.295</td>\n",
       "    </tr>\n",
       "    <tr>\n",
       "      <th>1978</th>\n",
       "      <td>KY</td>\n",
       "      <td>Caldwell County</td>\n",
       "      <td>0.294</td>\n",
       "    </tr>\n",
       "    <tr>\n",
       "      <th>1935</th>\n",
       "      <td>KS</td>\n",
       "      <td>Washington County</td>\n",
       "      <td>0.341</td>\n",
       "    </tr>\n",
       "    <tr>\n",
       "      <th>5450</th>\n",
       "      <td>VA</td>\n",
       "      <td>Appomattox County</td>\n",
       "      <td>0.311</td>\n",
       "    </tr>\n",
       "    <tr>\n",
       "      <th>4999</th>\n",
       "      <td>TX</td>\n",
       "      <td>Comal County</td>\n",
       "      <td>0.291</td>\n",
       "    </tr>\n",
       "  </tbody>\n",
       "</table>\n",
       "</div>"
      ],
      "text/plain": [
       "     State                      County  Adult obesity\n",
       "1       AK  Aleutians West Census Area          0.329\n",
       "5407    UT              Millard County          0.297\n",
       "1572    IN                Boone County          0.278\n",
       "648     FL              Flagler County          0.284\n",
       "5546    VA          Greensville County          0.331\n",
       "1895    KS             Republic County          0.295\n",
       "1978    KY             Caldwell County          0.294\n",
       "1935    KS           Washington County          0.341\n",
       "5450    VA           Appomattox County          0.311\n",
       "4999    TX                Comal County          0.291"
      ]
     },
     "execution_count": 27,
     "metadata": {},
     "output_type": "execute_result"
    }
   ],
   "source": [
    "df.loc[:,[\"State\",\"County\",\"Adult obesity\"]].sample(n=10) \n",
    "#3. Locate specific columns by name for states, counties, and adult obesity rates from a random sample of 10 "
   ]
  },
  {
   "cell_type": "code",
   "execution_count": 30,
   "id": "72de1781-da40-4b28-8922-8b5a35fbfca5",
   "metadata": {},
   "outputs": [],
   "source": [
    "#4. Use the newly compiled subset of data to conduct analysis of adult obesity rates by counties in varying states."
   ]
  }
 ],
 "metadata": {
  "kernelspec": {
   "display_name": "Python 3 (ipykernel)",
   "language": "python",
   "name": "python3"
  },
  "language_info": {
   "codemirror_mode": {
    "name": "ipython",
    "version": 3
   },
   "file_extension": ".py",
   "mimetype": "text/x-python",
   "name": "python",
   "nbconvert_exporter": "python",
   "pygments_lexer": "ipython3",
   "version": "3.9.13"
  }
 },
 "nbformat": 4,
 "nbformat_minor": 5
}
